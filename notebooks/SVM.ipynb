{
 "cells": [
  {
   "cell_type": "markdown",
   "id": "lesser-pressing",
   "metadata": {},
   "source": [
    "# Practice using SVM"
   ]
  },
  {
   "cell_type": "markdown",
   "id": "juvenile-arabic",
   "metadata": {},
   "source": [
    "## Import modules"
   ]
  },
  {
   "cell_type": "code",
   "execution_count": 1,
   "id": "controversial-boring",
   "metadata": {},
   "outputs": [],
   "source": [
    "import sys\n",
    "from time import time\n",
    "sys.path.append(\"../tools/\")\n",
    "from email_preprocess import preprocess\n",
    "from sklearn.svm import SVC\n",
    "from sklearn.pipeline  import make_pipeline\n",
    "from sklearn.preprocessing import StandardScaler"
   ]
  },
  {
   "cell_type": "markdown",
   "id": "direct-producer",
   "metadata": {},
   "source": [
    "## Initialize test and train data"
   ]
  },
  {
   "cell_type": "code",
   "execution_count": 2,
   "id": "miniature-residence",
   "metadata": {},
   "outputs": [
    {
     "name": "stdout",
     "output_type": "stream",
     "text": [
      "no. of Chris training emails: 7936\n",
      "no. of Sara training emails: 7884\n"
     ]
    }
   ],
   "source": [
    "features_train, features_test, labels_train, labels_test = preprocess()"
   ]
  },
  {
   "cell_type": "markdown",
   "id": "invalid-acrylic",
   "metadata": {},
   "source": [
    "## Create the model then train"
   ]
  },
  {
   "cell_type": "code",
   "execution_count": 3,
   "id": "restricted-columbus",
   "metadata": {},
   "outputs": [
    {
     "data": {
      "text/plain": [
       "SVC()"
      ]
     },
     "execution_count": 3,
     "metadata": {},
     "output_type": "execute_result"
    }
   ],
   "source": [
    "clf = SVC(kernel=\"rbf\")\n",
    "clf.fit(features_train, labels_train)"
   ]
  },
  {
   "cell_type": "markdown",
   "id": "annoying-lindsay",
   "metadata": {},
   "source": [
    "## Test model"
   ]
  },
  {
   "cell_type": "code",
   "execution_count": 4,
   "id": "hazardous-offer",
   "metadata": {},
   "outputs": [
    {
     "name": "stdout",
     "output_type": "stream",
     "text": [
      "Correctly classified out of 1758: 1745\n",
      "0.9926052332195677\n"
     ]
    }
   ],
   "source": [
    "y_pred = clf.predict(features_test)\n",
    "print(f'Correctly classified out of {features_test.shape[0]}: {(labels_test == y_pred).sum()}')\n",
    "print(clf.score(features_test, labels_test))"
   ]
  },
  {
   "cell_type": "markdown",
   "id": "actual-appointment",
   "metadata": {},
   "source": [
    "## Smaller Train and test set"
   ]
  },
  {
   "cell_type": "code",
   "execution_count": null,
   "id": "inappropriate-twenty",
   "metadata": {},
   "outputs": [],
   "source": [
    "features_train = features_train[:len(features_train)/100]\n",
    "labels_train = labels_train[:len(labels_train)/100]"
   ]
  },
  {
   "cell_type": "code",
   "execution_count": null,
   "id": "foster-owner",
   "metadata": {},
   "outputs": [],
   "source": []
  }
 ],
 "metadata": {
  "kernelspec": {
   "display_name": "Python 3",
   "language": "python",
   "name": "python3"
  },
  "language_info": {
   "codemirror_mode": {
    "name": "ipython",
    "version": 3
   },
   "file_extension": ".py",
   "mimetype": "text/x-python",
   "name": "python",
   "nbconvert_exporter": "python",
   "pygments_lexer": "ipython3",
   "version": "3.8.5"
  }
 },
 "nbformat": 4,
 "nbformat_minor": 5
}
