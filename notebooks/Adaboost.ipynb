{
 "cells": [
  {
   "cell_type": "markdown",
   "id": "thrown-queensland",
   "metadata": {},
   "source": [
    "# Practice using Adaboost"
   ]
  },
  {
   "cell_type": "markdown",
   "id": "nearby-hearing",
   "metadata": {},
   "source": [
    "## Import modules"
   ]
  },
  {
   "cell_type": "code",
   "execution_count": 1,
   "id": "eight-swiss",
   "metadata": {},
   "outputs": [],
   "source": [
    "import sys\n",
    "from time import time\n",
    "sys.path.append(\"../tools/\")\n",
    "from email_preprocess import preprocess\n",
    "from sklearn.ensemble import AdaBoostClassifier"
   ]
  },
  {
   "cell_type": "markdown",
   "id": "polished-doctrine",
   "metadata": {},
   "source": [
    "## Initialize test and train data"
   ]
  },
  {
   "cell_type": "code",
   "execution_count": 2,
   "id": "constitutional-quarter",
   "metadata": {},
   "outputs": [
    {
     "name": "stdout",
     "output_type": "stream",
     "text": [
      "no. of Chris training emails: 7936\n",
      "no. of Sara training emails: 7884\n"
     ]
    }
   ],
   "source": [
    "features_train, features_test, labels_train, labels_test = preprocess()"
   ]
  },
  {
   "cell_type": "markdown",
   "id": "numeric-train",
   "metadata": {},
   "source": [
    "## Create the model then train"
   ]
  },
  {
   "cell_type": "code",
   "execution_count": 3,
   "id": "blond-paste",
   "metadata": {},
   "outputs": [
    {
     "data": {
      "text/plain": [
       "AdaBoostClassifier(n_estimators=100)"
      ]
     },
     "execution_count": 3,
     "metadata": {},
     "output_type": "execute_result"
    }
   ],
   "source": [
    "clf = AdaBoostClassifier(n_estimators=100)\n",
    "clf.fit(features_train, labels_train)"
   ]
  },
  {
   "cell_type": "markdown",
   "id": "backed-bulgarian",
   "metadata": {},
   "source": [
    "## Test model"
   ]
  },
  {
   "cell_type": "code",
   "execution_count": 4,
   "id": "quality-comparison",
   "metadata": {},
   "outputs": [
    {
     "name": "stdout",
     "output_type": "stream",
     "text": [
      "Correctly classified out of 1758: 1698\n",
      "0.9658703071672355\n"
     ]
    }
   ],
   "source": [
    "y_pred = clf.predict(features_test)\n",
    "print(f'Correctly classified out of {features_test.shape[0]}: {(labels_test == y_pred).sum()}')\n",
    "print(clf.score(features_test, labels_test))"
   ]
  }
 ],
 "metadata": {
  "kernelspec": {
   "display_name": "Python 3",
   "language": "python",
   "name": "python3"
  },
  "language_info": {
   "codemirror_mode": {
    "name": "ipython",
    "version": 3
   },
   "file_extension": ".py",
   "mimetype": "text/x-python",
   "name": "python",
   "nbconvert_exporter": "python",
   "pygments_lexer": "ipython3",
   "version": "3.8.5"
  }
 },
 "nbformat": 4,
 "nbformat_minor": 5
}
